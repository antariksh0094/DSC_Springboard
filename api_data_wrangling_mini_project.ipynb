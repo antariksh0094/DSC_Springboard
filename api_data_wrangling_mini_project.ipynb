{
 "cells": [
  {
   "cell_type": "markdown",
   "metadata": {},
   "source": [
    "This exercise will require you to pull some data from the Qunadl API. Qaundl is currently the most widely used aggregator of financial market data."
   ]
  },
  {
   "cell_type": "markdown",
   "metadata": {},
   "source": [
    "As a first step, you will need to register a free account on the http://www.quandl.com website."
   ]
  },
  {
   "cell_type": "markdown",
   "metadata": {},
   "source": [
    "After you register, you will be provided with a unique API key, that you should store:"
   ]
  },
  {
   "cell_type": "code",
   "execution_count": 1,
   "metadata": {},
   "outputs": [],
   "source": [
    "# Store the API key as a string - according to PEP8, constants are always named in all upper case\n",
    "API_KEY = 'XXXXXXXXXXXXXXXXXXXXXX'"
   ]
  },
  {
   "cell_type": "markdown",
   "metadata": {},
   "source": [
    "Qaundl has a large number of data sources, but, unfortunately, most of them require a Premium subscription. Still, there are also a good number of free datasets."
   ]
  },
  {
   "cell_type": "markdown",
   "metadata": {},
   "source": [
    "For this mini project, we will focus on equities data from the Frankfurt Stock Exhange (FSE), which is available for free. We'll try and analyze the stock prices of a company called Carl Zeiss Meditec, which manufactures tools for eye examinations, as well as medical lasers for laser eye surgery: https://www.zeiss.com/meditec/int/home.html. The company is listed under the stock ticker AFX_X."
   ]
  },
  {
   "cell_type": "markdown",
   "metadata": {},
   "source": [
    "You can find the detailed Quandl API instructions here: https://docs.quandl.com/docs/time-series"
   ]
  },
  {
   "cell_type": "markdown",
   "metadata": {},
   "source": [
    "While there is a dedicated Python package for connecting to the Quandl API, we would prefer that you use the *requests* package, which can be easily downloaded using *pip* or *conda*. You can find the documentation for the package here: http://docs.python-requests.org/en/master/ "
   ]
  },
  {
   "cell_type": "markdown",
   "metadata": {},
   "source": [
    "Finally, apart from the *requests* package, you are encouraged to not use any third party Python packages, such as *pandas*, and instead focus on what's available in the Python Standard Library (the *collections* module might come in handy: https://pymotw.com/3/collections/ ).\n",
    "Also, since you won't have access to DataFrames, you are encouraged to us Python's native data structures - preferably dictionaries, though some questions can also be answered using lists.\n",
    "You can read more on these data structures here: https://docs.python.org/3/tutorial/datastructures.html"
   ]
  },
  {
   "cell_type": "markdown",
   "metadata": {},
   "source": [
    "Keep in mind that the JSON responses you will be getting from the API map almost one-to-one to Python's dictionaries. Unfortunately, they can be very nested, so make sure you read up on indexing dictionaries in the documentation provided above."
   ]
  },
  {
   "cell_type": "code",
   "execution_count": 2,
   "metadata": {},
   "outputs": [],
   "source": [
    "# First, import the relevant modules\n",
    "import requests\n",
    "import json"
   ]
  },
  {
   "cell_type": "code",
   "execution_count": 3,
   "metadata": {},
   "outputs": [],
   "source": [
    "data = requests.get('https://www.quandl.com/api/v3/datasets/FSE/AFX_X.json?start_date=2017-01-01&end_date=2017-01-11&api_key=Et_xAdsTsGfp6cdJ9_UD')"
   ]
  },
  {
   "cell_type": "code",
   "execution_count": 4,
   "metadata": {},
   "outputs": [],
   "source": [
    "txt = data.text\n",
    "json_data = json.loads(txt)"
   ]
  },
  {
   "cell_type": "code",
   "execution_count": 133,
   "metadata": {},
   "outputs": [
    {
     "data": {
      "text/plain": [
       "dict"
      ]
     },
     "execution_count": 133,
     "metadata": {},
     "output_type": "execute_result"
    }
   ],
   "source": [
    "type(json_data)"
   ]
  },
  {
   "cell_type": "code",
   "execution_count": 11,
   "metadata": {},
   "outputs": [],
   "source": [
    "# Now, call the Quandl API and pull out a small sample of the data (only one day) to get a glimpse\n",
    "# into the JSON structure that will be returned\n",
    "\n",
    "import quandl"
   ]
  },
  {
   "cell_type": "code",
   "execution_count": 12,
   "metadata": {},
   "outputs": [],
   "source": [
    "quandl.ApiConfig.api_key = API_KEY"
   ]
  },
  {
   "cell_type": "code",
   "execution_count": 20,
   "metadata": {},
   "outputs": [],
   "source": [
    "data = quandl.get(\"FSE/AFX_X\", start_date=\"2020-03-03\", end_date=\"2020-03-04\", returns=\"json\")"
   ]
  },
  {
   "cell_type": "code",
   "execution_count": 22,
   "metadata": {},
   "outputs": [
    {
     "data": {
      "text/plain": [
       "pandas.core.frame.DataFrame"
      ]
     },
     "execution_count": 22,
     "metadata": {},
     "output_type": "execute_result"
    }
   ],
   "source": [
    "type(data)"
   ]
  },
  {
   "cell_type": "code",
   "execution_count": 5,
   "metadata": {},
   "outputs": [
    {
     "data": {
      "text/plain": [
       "{'dataset': {'id': 10095370,\n",
       "  'dataset_code': 'AFX_X',\n",
       "  'database_code': 'FSE',\n",
       "  'name': 'Carl Zeiss Meditec (AFX_X)',\n",
       "  'description': 'Stock Prices for Carl Zeiss Meditec (2020-03-06) from the Frankfurt Stock Exchange.<br><br>Trading System: Xetra<br><br>ISIN: DE0005313704',\n",
       "  'refreshed_at': '2020-03-20T22:16:38.324Z',\n",
       "  'newest_available_date': '2020-03-20',\n",
       "  'oldest_available_date': '2000-06-07',\n",
       "  'column_names': ['Date',\n",
       "   'Open',\n",
       "   'High',\n",
       "   'Low',\n",
       "   'Close',\n",
       "   'Change',\n",
       "   'Traded Volume',\n",
       "   'Turnover',\n",
       "   'Last Price of the Day',\n",
       "   'Daily Traded Units',\n",
       "   'Daily Turnover'],\n",
       "  'frequency': 'daily',\n",
       "  'type': 'Time Series',\n",
       "  'premium': False,\n",
       "  'limit': None,\n",
       "  'transform': None,\n",
       "  'column_index': None,\n",
       "  'start_date': '2017-01-01',\n",
       "  'end_date': '2017-01-11',\n",
       "  'data': [['2017-01-11',\n",
       "    34.95,\n",
       "    36.0,\n",
       "    34.84,\n",
       "    35.42,\n",
       "    None,\n",
       "    123530.0,\n",
       "    4369079.0,\n",
       "    None,\n",
       "    None,\n",
       "    None],\n",
       "   ['2017-01-10',\n",
       "    34.8,\n",
       "    34.98,\n",
       "    34.46,\n",
       "    34.91,\n",
       "    None,\n",
       "    43976.0,\n",
       "    1528055.0,\n",
       "    None,\n",
       "    None,\n",
       "    None],\n",
       "   ['2017-01-09',\n",
       "    35.29,\n",
       "    35.35,\n",
       "    34.43,\n",
       "    34.67,\n",
       "    None,\n",
       "    62225.0,\n",
       "    2157182.0,\n",
       "    None,\n",
       "    None,\n",
       "    None],\n",
       "   ['2017-01-06',\n",
       "    34.91,\n",
       "    35.21,\n",
       "    34.91,\n",
       "    35.04,\n",
       "    None,\n",
       "    27507.0,\n",
       "    964046.0,\n",
       "    None,\n",
       "    None,\n",
       "    None],\n",
       "   ['2017-01-05',\n",
       "    35.02,\n",
       "    35.2,\n",
       "    34.73,\n",
       "    35.06,\n",
       "    None,\n",
       "    48412.0,\n",
       "    1692326.0,\n",
       "    None,\n",
       "    None,\n",
       "    None],\n",
       "   ['2017-01-04',\n",
       "    35.48,\n",
       "    35.51,\n",
       "    34.75,\n",
       "    35.19,\n",
       "    None,\n",
       "    54408.0,\n",
       "    1906810.0,\n",
       "    None,\n",
       "    None,\n",
       "    None],\n",
       "   ['2017-01-03',\n",
       "    35.9,\n",
       "    35.93,\n",
       "    35.34,\n",
       "    35.48,\n",
       "    None,\n",
       "    70618.0,\n",
       "    2515473.0,\n",
       "    None,\n",
       "    None,\n",
       "    None],\n",
       "   ['2017-01-02',\n",
       "    34.99,\n",
       "    35.94,\n",
       "    34.99,\n",
       "    35.8,\n",
       "    None,\n",
       "    44700.0,\n",
       "    1590561.0,\n",
       "    None,\n",
       "    None,\n",
       "    None]],\n",
       "  'collapse': None,\n",
       "  'order': None,\n",
       "  'database_id': 6129}}"
      ]
     },
     "execution_count": 5,
     "metadata": {},
     "output_type": "execute_result"
    }
   ],
   "source": [
    "# Inspect the JSON structure of the object you created, and take note of how nested it is,\n",
    "# as well as the overall structure\n",
    "json_data"
   ]
  },
  {
   "cell_type": "markdown",
   "metadata": {},
   "source": [
    "These are your tasks for this mini project:\n",
    "\n",
    "1. Collect data from the Franfurt Stock Exchange, for the ticker AFX_X, for the whole year 2017 (keep in mind that the date format is YYYY-MM-DD).\n",
    "2. Convert the returned JSON object into a Python dictionary.\n",
    "3. Calculate what the highest and lowest opening prices were for the stock in this period.\n",
    "4. What was the largest change in any one day (based on High and Low price)?\n",
    "5. What was the largest change between any two days (based on Closing Price)?\n",
    "6. What was the average daily trading volume during this year?\n",
    "7. (Optional) What was the median trading volume during this year. (Note: you may need to implement your own function for calculating the median.)"
   ]
  },
  {
   "cell_type": "code",
   "execution_count": 153,
   "metadata": {},
   "outputs": [],
   "source": [
    "data = requests.get('https://www.quandl.com/api/v3/datasets/FSE/AFX_X.json?start_date=2017-01-01&end_date=2017-12-31&api_key=Et_xAdsTsGfp6cdJ9_UD')"
   ]
  },
  {
   "cell_type": "code",
   "execution_count": 154,
   "metadata": {},
   "outputs": [],
   "source": [
    "txt = data.text\n",
    "json_data = json.loads(txt)"
   ]
  },
  {
   "cell_type": "code",
   "execution_count": 134,
   "metadata": {},
   "outputs": [
    {
     "data": {
      "text/plain": [
       "['Date',\n",
       " 'Open',\n",
       " 'High',\n",
       " 'Low',\n",
       " 'Close',\n",
       " 'Change',\n",
       " 'Traded Volume',\n",
       " 'Turnover',\n",
       " 'Last Price of the Day',\n",
       " 'Daily Traded Units',\n",
       " 'Daily Turnover']"
      ]
     },
     "execution_count": 134,
     "metadata": {},
     "output_type": "execute_result"
    }
   ],
   "source": [
    "json_data['dataset']['column_names']"
   ]
  },
  {
   "cell_type": "code",
   "execution_count": 160,
   "metadata": {},
   "outputs": [],
   "source": [
    "open_list = []\n",
    "change_list = []\n",
    "close_list = []\n",
    "trade_vol_list = []\n",
    "for item in json_data['dataset']['data']:\n",
    "    if item[1] != None:\n",
    "        open_list.append(item[1])\n",
    "    change_list.append(item[2] - item[3])\n",
    "    close_list.append(item[4])\n",
    "    trade_vol_list.append(item[6])"
   ]
  },
  {
   "cell_type": "code",
   "execution_count": 161,
   "metadata": {},
   "outputs": [
    {
     "name": "stdout",
     "output_type": "stream",
     "text": [
      "maximum opening price for this period is  53.11\n",
      "minimum opening price for this period is  34.0\n"
     ]
    }
   ],
   "source": [
    "print(\"maximum opening price for this period is \", max(open_list))\n",
    "print(\"minimum opening price for this period is \", min(open_list))"
   ]
  },
  {
   "cell_type": "code",
   "execution_count": 162,
   "metadata": {},
   "outputs": [
    {
     "name": "stdout",
     "output_type": "stream",
     "text": [
      "Highest change (high-low) in a single day for this period is 2.8100000000000023\n"
     ]
    }
   ],
   "source": [
    "print(\"Highest change (high-low) in a single day for this period is\", max(change_list))"
   ]
  },
  {
   "cell_type": "code",
   "execution_count": 163,
   "metadata": {},
   "outputs": [
    {
     "name": "stdout",
     "output_type": "stream",
     "text": [
      "The largest difference between consecutive days is  2.559999999999995\n"
     ]
    }
   ],
   "source": [
    "close_diff_list = []\n",
    "for i in range(len(close_list)-1):\n",
    "    close_diff_list.append(close_list[i+1] - close_list[i])\n",
    "print('The largest difference between consecutive days is ', max(close_diff_list))"
   ]
  },
  {
   "cell_type": "code",
   "execution_count": 164,
   "metadata": {},
   "outputs": [
    {
     "name": "stdout",
     "output_type": "stream",
     "text": [
      "Average traded volume is  89124.33725490196\n"
     ]
    }
   ],
   "source": [
    "print(\"Average traded volume is \", sum(trade_vol_list)/len(trade_vol_list))"
   ]
  },
  {
   "cell_type": "code",
   "execution_count": 165,
   "metadata": {},
   "outputs": [
    {
     "name": "stdout",
     "output_type": "stream",
     "text": [
      "[45.0, 112.0, 290.0, 522.0, 587.0, 686.0, 1081.0, 1945.0, 27507.0, 34640.0, 37014.0, 37958.0, 38308.0, 38518.0, 38834.0, 39195.0, 39731.0, 40660.0, 40705.0, 40800.0, 41911.0, 42669.0, 43042.0, 43362.0, 43375.0, 43976.0, 43988.0, 44037.0, 44059.0, 44700.0, 44803.0, 45111.0, 45263.0, 46070.0, 46510.0, 47130.0, 47730.0, 47879.0, 47999.0, 48123.0, 48152.0, 48412.0, 48706.0, 48797.0, 49180.0, 49246.0, 49863.0, 49970.0, 50350.0, 50549.0, 50557.0, 50587.0, 51321.0, 52828.0, 54107.0, 54279.0, 54408.0, 55333.0, 55707.0, 55799.0, 56071.0, 56224.0, 56240.0, 56245.0, 56319.0, 56319.0, 56906.0, 56911.0, 57452.0, 57838.0, 59367.0, 59881.0, 59991.0, 60324.0, 60420.0, 60583.0, 60716.0, 61925.0, 62225.0, 62297.0, 62655.0, 62672.0, 63371.0, 64103.0, 64320.0, 64334.0, 65157.0, 65213.0, 65266.0, 65546.0, 65837.0, 65847.0, 65860.0, 65931.0, 66116.0, 66351.0, 66760.0, 67342.0, 67375.0, 67410.0, 67440.0, 67593.0, 67672.0, 67781.0, 68801.0, 68812.0, 69455.0, 69603.0, 69657.0, 69734.0, 70056.0, 70269.0, 70618.0, 70856.0, 71006.0, 71165.0, 71381.0, 71817.0, 71868.0, 71971.0, 72886.0, 73105.0, 73322.0, 73422.0, 74453.0, 74472.0, 74975.0, 76286.0, 76600.0, 77420.0, 77619.0, 77854.0, 78502.0, 78512.0, 79955.0, 80246.0, 80586.0, 81255.0, 81945.0, 81970.0, 82058.0, 82492.0, 82601.0, 82745.0, 83023.0, 83741.0, 84682.0, 85137.0, 85973.0, 86348.0, 86348.0, 86559.0, 86753.0, 87399.0, 87911.0, 88416.0, 88416.0, 88416.0, 88730.0, 89373.0, 89752.0, 90109.0, 90245.0, 90538.0, 91142.0, 91858.0, 92722.0, 94195.0, 94385.0, 94804.0, 95313.0, 95376.0, 95382.0, 96202.0, 96794.0, 97252.0, 97456.0, 97572.0, 97804.0, 98156.0, 99674.0, 99821.0, 101294.0, 101476.0, 101733.0, 101733.0, 102084.0, 102180.0, 103273.0, 104003.0, 104282.0, 104676.0, 104995.0, 105194.0, 105288.0, 106513.0, 107144.0, 107644.0, 107817.0, 108334.0, 109157.0, 111923.0, 112224.0, 112942.0, 114006.0, 115075.0, 115705.0, 115706.0, 115843.0, 117165.0, 120268.0, 120649.0, 123019.0, 123530.0, 127682.0, 127973.0, 128434.0, 129733.0, 131361.0, 132981.0, 133057.0, 134965.0, 136112.0, 137313.0, 149515.0, 151439.0, 151474.0, 151683.0, 156005.0, 156168.0, 157234.0, 157888.0, 158278.0, 159495.0, 163860.0, 164543.0, 166160.0, 169971.0, 175161.0, 177171.0, 183412.0, 186784.0, 187468.0, 189125.0, 189201.0, 191515.0, 193156.0, 193702.0, 202214.0, 204080.0, 210926.0, 223621.0, 335406.0, 355857.0, 670349.0]\n",
      "Median =  76286.0\n"
     ]
    }
   ],
   "source": [
    "trade_vol_list.sort()\n",
    "print(trade_vol_list)\n",
    "size = len(trade_vol_list)\n",
    "if (size % 2) != 0:\n",
    "    median = trade_vol_list[(size//2)]\n",
    "else:\n",
    "    median = (trade_vol_list[size//2] + trade_vol_list[(size//2) - 1])/2\n",
    "print(\"Median = \", median)"
   ]
  }
 ],
 "metadata": {
  "kernelspec": {
   "display_name": "Python 3",
   "language": "python",
   "name": "python3"
  },
  "language_info": {
   "codemirror_mode": {
    "name": "ipython",
    "version": 3
   },
   "file_extension": ".py",
   "mimetype": "text/x-python",
   "name": "python",
   "nbconvert_exporter": "python",
   "pygments_lexer": "ipython3",
   "version": "3.7.4"
  }
 },
 "nbformat": 4,
 "nbformat_minor": 2
}
